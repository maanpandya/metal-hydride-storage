{
 "cells": [
  {
   "cell_type": "markdown",
   "id": "e52a9a18-dc8a-4a76-899e-b494d36b8972",
   "metadata": {},
   "source": [
    "# Parametric Study of 2D Transient Stokes Flow in a Rectangular Channel\n",
    "\n",
    "**Objective:** The goal of this notebook is to perform a parametric study on the 2D transient Stokes flow model for an open rectangular channel. We will investigate the impact of mesh refinement and different implicit time-integration schemes on the solver's performance and statistics.\n",
    "\n",
    "The implementation is based on validated code using `Ferrite.jl` for the finite element formulation and `DifferentialEquations.jl` for the time integration."
   ]
  },
  {
   "cell_type": "markdown",
   "id": "cc016459-7d67-4e1d-89e6-2eacf462ad8d",
   "metadata": {},
   "source": [
    "##  Section 1: Required Packages"
   ]
  },
  {
   "cell_type": "code",
   "execution_count": 1,
   "id": "c3f62844-3286-488a-9283-8a737d235584",
   "metadata": {},
   "outputs": [],
   "source": [
    "using BlockArrays\n",
    "using LinearAlgebra\n",
    "using UnPack\n",
    "using SparseArrays\n",
    "using Ferrite\n",
    "using OrdinaryDiffEq\n",
    "using DifferentialEquations\n",
    "using Plots\n",
    "using WriteVTK\n",
    "using DataFrames\n",
    "using Printf"
   ]
  },
  {
   "cell_type": "markdown",
   "id": "4218ba48-f412-4f54-9d4d-6b3d2babc21e",
   "metadata": {},
   "source": [
    "## Section 2: Problem Definition\n",
    "\n",
    "We solve the transient Stokes equations for an incompressible fluid in a 2D domain $\\Omega$.\n",
    "\n",
    "#### Momentum Equation\n",
    "$$ \\frac{\\partial \\mathbf{u}}{\\partial t} - \\mu \\nabla^2 \\mathbf{u} + \\nabla p = \\mathbf{0} \\quad \\text{in } \\Omega $$\n",
    "\n",
    "#### Continuity Equation (Incompressibility)\n",
    "$$ \\nabla \\cdot \\mathbf{u} = 0 \\quad \\text{in } \\Omega $$\n",
    "\n",
    "where $\\mathbf{u}$ is the velocity, $p$ is the pressure, and $\\mu$ is the viscosity.\n",
    "\n",
    "### Boundary Conditions for the Open Channel:\n",
    "- **Inlet (left):** A time-ramped parabolic velocity profile.\n",
    "- **Walls (top/bottom):** No-slip condition ($\\mathbf{u} = \\mathbf{0}$).\n",
    "- **Outlet (right):** Zero pressure condition ($p=0$)."
   ]
  },
  {
   "cell_type": "markdown",
   "id": "a3f83798-1884-40a2-93af-d715dfb36028",
   "metadata": {},
   "source": [
    "## Section 3: Core Assembly Functions\n",
    "\n",
    "These are the validated functions from the reference notebooks for assembling the stiffness and mass matrices. We use them directly to ensure our study is based on a correct physical model."
   ]
  },
  {
   "cell_type": "code",
   "execution_count": 2,
   "id": "7bd34e12-70ec-410c-9399-446ce6e5b4b3",
   "metadata": {},
   "outputs": [
    {
     "data": {
      "text/plain": [
       "assemble_stokes_matrix! (generic function with 1 method)"
      ]
     },
     "execution_count": 2,
     "metadata": {},
     "output_type": "execute_result"
    }
   ],
   "source": [
    "function assemble_mass_matrix!(cellvalues_v::CellValues, M::SparseMatrixCSC, dh::DofHandler)\n",
    "    n_basefuncs_v = getnbasefunctions(cellvalues_v)\n",
    "    Mₑ = zeros(n_basefuncs_v, n_basefuncs_v)\n",
    "    \n",
    "    # We only need the velocity-velocity block\n",
    "    u_dofs = dof_range(dh, :u)\n",
    "    \n",
    "    mass_assembler = start_assemble(M)\n",
    "    for cell in CellIterator(dh)\n",
    "        fill!(Mₑ, 0)\n",
    "        Ferrite.reinit!(cellvalues_v, cell)\n",
    "        \n",
    "        for q_point in 1:getnquadpoints(cellvalues_v)\n",
    "            dΩ = getdetJdV(cellvalues_v, q_point)\n",
    "            for i in 1:n_basefuncs_v\n",
    "                φᵢ = shape_value(cellvalues_v, q_point, i)\n",
    "                for j in 1:n_basefuncs_v\n",
    "                    φⱼ = shape_value(cellvalues_v, q_point, j)\n",
    "                    Mₑ[i, j] += (φᵢ ⋅ φⱼ) * dΩ\n",
    "                end\n",
    "            end\n",
    "        end\n",
    "        \n",
    "        # Assemble only into the velocity part of the global matrix\n",
    "        assemble!(mass_assembler, celldofs(cell)[u_dofs], Mₑ)\n",
    "    end\n",
    "    return M\n",
    "end\n",
    "\n",
    "function assemble_stokes_matrix!(K, dh, cvu, cvp, viscosity)\n",
    "    assembler = start_assemble(K)\n",
    "    ke = zeros(ndofs_per_cell(dh), ndofs_per_cell(dh))\n",
    "    \n",
    "    range_u = dof_range(dh, :u)\n",
    "    ndofs_u = length(range_u)\n",
    "    range_p = dof_range(dh, :p)\n",
    "    ndofs_p = length(range_p)\n",
    "    \n",
    "    # Pre-allocate buffers\n",
    "    ∇ϕᵤ = Vector{Tensor{2,2,Float64,4}}(undef, ndofs_u)\n",
    "    divϕᵤ = Vector{Float64}(undef, ndofs_u)\n",
    "    ϕₚ = Vector{Float64}(undef, ndofs_p)\n",
    "    \n",
    "    for cell in CellIterator(dh)\n",
    "        Ferrite.reinit!(cvu, cell)\n",
    "        Ferrite.reinit!(cvp, cell)\n",
    "        fill!(ke, 0)\n",
    "        \n",
    "        for qp in 1:getnquadpoints(cvu)\n",
    "            dΩ = getdetJdV(cvu, qp)\n",
    "            \n",
    "            for i in 1:ndofs_u\n",
    "                ∇ϕᵤ[i] = shape_gradient(cvu, qp, i)\n",
    "                divϕᵤ[i] = shape_divergence(cvu, qp, i)\n",
    "            end\n",
    "            for i in 1:ndofs_p\n",
    "                ϕₚ[i] = shape_value(cvp, qp, i)\n",
    "            end\n",
    "            \n",
    "            # u-u block (viscosity)\n",
    "            for (i, I) in pairs(range_u), (j, J) in pairs(range_u)\n",
    "                ke[I, J] += viscosity * (∇ϕᵤ[i] ⊡ ∇ϕᵤ[j]) * dΩ\n",
    "            end\n",
    "            \n",
    "            # u-p and p-u blocks (divergence/gradient)\n",
    "            for (i, I) in pairs(range_u), (j, J) in pairs(range_p)\n",
    "                ke[I, J] -= divϕᵤ[i] * ϕₚ[j] * dΩ\n",
    "                ke[J, I] -= divϕᵤ[i] * ϕₚ[j] * dΩ\n",
    "            end\n",
    "        end\n",
    "        assemble!(assembler, celldofs(cell), ke)\n",
    "    end\n",
    "    return K\n",
    "end"
   ]
  },
  {
   "cell_type": "markdown",
   "id": "1fd72509-068c-4750-b73c-664ced7d0a7c",
   "metadata": {},
   "source": [
    "## Section 4: Simulation Runner Function\n",
    "\n",
    "To facilitate the parametric study, we create a single function, `run_simulation`, that encapsulates the entire process for a given set of parameters. This function will:\n",
    "1. Take mesh size, solver type, and tolerances as input.\n",
    "2. Perform all setup steps: mesh generation, FE space definition, matrix assembly.\n",
    "3. Define and solve the `ODEProblem`.\n",
    "4. Return the solution object, which contains performance statistics."
   ]
  },
  {
   "cell_type": "code",
   "execution_count": 3,
   "id": "c896603e-bd44-44e3-9338-d106c9ac7921",
   "metadata": {},
   "outputs": [],
   "source": [
    "struct RHSParams\n",
    "    K::SparseMatrixCSC\n",
    "    ch::ConstraintHandler\n",
    "    u_buffer::Vector{Float64} # Buffer to hold the full solution vector\n",
    "end\n",
    "\n",
    "# The ODE function (du/dt = f(u,p,t))\n",
    "# We solve M*du/dt = -K*u, so f(u,p,t) = -K*u\n",
    "function stokes!(du, u_ode, p::RHSParams, t)\n",
    "    @unpack K, ch, u_buffer = p\n",
    "    \n",
    "    # The input u_ode from the solver contains only free dofs.\n",
    "    # We need to apply boundary conditions to get the full state vector.\n",
    "    u_buffer .= u_ode\n",
    "    update!(ch, t) # Update for time-dependent BCs\n",
    "    apply!(u_buffer, ch)\n",
    "    \n",
    "    # Compute the residual: du = -K * u\n",
    "    mul!(du, K, u_buffer)\n",
    "    du .*= -1.0\n",
    "    \n",
    "    return\n",
    "end\n",
    "\n",
    "# Jacobian of the ODE function (J = d(f)/du = -K)\n",
    "# The Jacobian is constant for this linear problem.\n",
    "function stokes_jac!(J, u_ode, p::RHSParams, t)\n",
    "    # The Jacobian is simply -K, with BCs applied.\n",
    "    # We pre-calculate this and store it in the ODEFunction jac_prototype.\n",
    "    # This function just returns the pre-built Jacobian.\n",
    "    return J\n",
    "end\n",
    "\n",
    "# Custom limiter to apply Dirichlet BCs at each step\n",
    "function ferrite_limiter!(u, _, p, t)\n",
    "    update!(p.ch, t)\n",
    "    apply!(u, p.ch)\n",
    "end\n",
    "\n",
    "# Custom norm to calculate error only on free DOFs\n",
    "struct FreeDofErrorNorm\n",
    "    ch::ConstraintHandler\n",
    "end\n",
    "(fe_norm::FreeDofErrorNorm)(u, t) = norm(u[fe_norm.ch.free_dofs]) / sqrt(length(fe_norm.ch.free_dofs))"
   ]
  },
  {
   "cell_type": "code",
   "execution_count": 4,
   "id": "d46aebef-6612-4592-bb6c-ab52611b11eb",
   "metadata": {},
   "outputs": [
    {
     "data": {
      "text/plain": [
       "run_simulation (generic function with 1 method)"
      ]
     },
     "execution_count": 4,
     "metadata": {},
     "output_type": "execute_result"
    }
   ],
   "source": [
    "function run_simulation(nels::Tuple{Int,Int}, timestepper, T_end::Float64, dt0::Float64, abstol::Float64, reltol::Float64; viscosity=1e3)\n",
    "    \n",
    "    # 1. MESH and GEOMETRY\n",
    "    H = 0.25\n",
    "    L = 4 * H\n",
    "    grid = generate_grid(Quadrilateral, nels, Vec((0.0, 0.0)), Vec((L, H)))\n",
    "    \n",
    "    # 2. FINITE ELEMENT SPACES (Q2/Q1 Taylor-Hood)\n",
    "    dim = 2\n",
    "    degree = 1\n",
    "    ipu = Lagrange{RefQuadrilateral, degree + 1}()^dim\n",
    "    ipp = Lagrange{RefQuadrilateral, degree}()\n",
    "    \n",
    "    dh = DofHandler(grid)\n",
    "    add!(dh, :u, ipu)\n",
    "    add!(dh, :p, ipp)\n",
    "    close!(dh)\n",
    "    \n",
    "    qr = QuadratureRule{RefQuadrilateral}(2 * degree + 1)\n",
    "    ipg = Lagrange{RefQuadrilateral, 1}()\n",
    "    cvu = CellValues(qr, ipu, ipg)\n",
    "    cvp = CellValues(qr, ipp, ipg)\n",
    "    \n",
    "    # 3. BOUNDARY CONDITIONS\n",
    "    ch = ConstraintHandler(dh)\n",
    "    vmax = 1.0\n",
    "    vin(t) = min(t * vmax, vmax) # Ramped velocity\n",
    "    parabolic_inflow(x, t) = Vec((vin(t) * x[2] * (H - x[2]) / (H^2 / 4), 0.0))\n",
    "    \n",
    "    add!(ch, Dirichlet(:u, getfacetset(grid, \"left\"), parabolic_inflow))\n",
    "    add!(ch, Dirichlet(:u, union(getfacetset(grid, \"top\"), getfacetset(grid, \"bottom\")), (x,t) -> [0,0]))\n",
    "    add!(ch, Dirichlet(:p, getfacetset(grid, \"right\"), (x,t) -> 0))\n",
    "    close!(ch)\n",
    "    \n",
    "    # 4. MATRIX ASSEMBLY\n",
    "    K = allocate_matrix(dh, ch)\n",
    "    M = allocate_matrix(dh, ch)\n",
    "    \n",
    "    assemble_stokes_matrix!(K, dh, cvu, cvp, viscosity)\n",
    "    assemble_mass_matrix!(cvu, M, dh)\n",
    "    \n",
    "    # 5. ODE PROBLEM SETUP\n",
    "    # The Jacobian of our ODE function is -K. We apply BCs to it once.\n",
    "    J = -K\n",
    "    apply!(J, ch)\n",
    "    jac_sparsity = sparse(J)\n",
    "    \n",
    "    # Set up the ODE function with the constant Jacobian\n",
    "    rhs = ODEFunction(stokes!, mass_matrix=M, jac=stokes_jac!, jac_prototype=jac_sparsity)\n",
    "    \n",
    "    # Initial condition (zero velocity)\n",
    "    u0 = zeros(ndofs(dh))\n",
    "    update!(ch, 0.0)\n",
    "    apply!(u0, ch)\n",
    "    \n",
    "    # Parameters for the ODE function\n",
    "    params = RHSParams(K, ch, copy(u0))\n",
    "    \n",
    "    problem = ODEProblem(rhs, u0, (0.0, T_end), params)\n",
    "    \n",
    "    # 6. SOLVE\n",
    "    # Set the step limiter for the chosen timestepper\n",
    "    # We need to create a new stepper instance to set the limiter\n",
    "    stepper_instance = deepcopy(timestepper)\n",
    "    if hasproperty(stepper_instance, :step_limiter!)\n",
    "        stepper_instance.step_limiter! = ferrite_limiter!\n",
    "    end\n",
    "    \n",
    "    sol = solve(problem, stepper_instance, dt=dt0,\n",
    "                adaptive=true, \n",
    "                abstol=abstol, reltol=reltol,\n",
    "                progress=false, # Disable progress bar for clean output\n",
    "                internalnorm=FreeDofErrorNorm(ch),\n",
    "                d_discontinuities=[1.0] # Discontinuity at t=1 when ramp finishes\n",
    "               )\n",
    "    \n",
    "    return sol, ndofs(dh)\n",
    "end"
   ]
  },
  {
   "cell_type": "markdown",
   "id": "5a114df9-1ca1-4ae5-9209-052e1fa3fc78",
   "metadata": {},
   "source": [
    "## Section 5: Parametric Study Configuration\n",
    "\n",
    "Here we define the different configurations we want to test. We will vary:\n",
    "1. **Mesh Size:** From coarse to fine, to see how performance scales with the number of degrees of freedom (DOFs).\n",
    "2. **Time Stepper:** A selection of implicit solvers from `DifferentialEquations.jl` suitable for stiff, differential-algebraic equations (DAEs).\n",
    "3. **Tolerances:** We'll test both low and high accuracy settings to see the trade-off between speed and precision."
   ]
  },
  {
   "cell_type": "code",
   "execution_count": null,
   "id": "955c9941-2831-402f-986c-838f4a877e07",
   "metadata": {},
   "outputs": [
    {
     "data": {
      "text/plain": [
       "Any[]"
      ]
     },
     "execution_count": 5,
     "metadata": {},
     "output_type": "execute_result"
    }
   ],
   "source": [
    "# General simulation parameters\n",
    "T_end = 2.0  # Total simulation time\n",
    "dt0 = 0.01   # Initial time step\n",
    "\n",
    "# 1. Define Mesh Sizes\n",
    "mesh_configs = [\n",
    "    (name=\"Coarse (10x4)\", nels=(10, 4)),\n",
    "    (name=\"Medium (20x5)\", nels=(20, 5)),\n",
    "    (name=\"Fine (40x10)\",   nels=(40, 10))\n",
    "]\n",
    "\n",
    "# 2. Define Time Steppers\n",
    "# Note: autodiff=false is crucial for these manually defined Jacobian systems.\n",
    "stepper_configs = [\n",
    "    (name=\"Rodas5P\", stepper=Rodas5P(autodiff=false)),\n",
    "    (name=\"ROS34PW1a\", stepper=ROS34PW1a(autodiff=false)),\n",
    "    (name=\"KenCarp4\", stepper=KenCarp4(autodiff=false))\n",
    "]\n",
    "\n",
    "# 3. Define Tolerances\n",
    "tolerance_configs = [\n",
    "    (name=\"Low Accuracy\", abstol=1e-3, reltol=1e-3),\n",
    "    (name=\"High Accuracy\", abstol=1e-5, reltol=1e-5)\n",
    "]\n",
    "\n",
    "# Array to store results\n",
    "results = []"
   ]
  },
  {
   "cell_type": "markdown",
   "id": "3bcb2ba9-f186-443b-ac37-ec256ea0fd02",
   "metadata": {},
   "source": [
    "## Section 6: Executing the Study\n",
    "\n",
    "We now loop through all combinations of the configured parameters, run the simulation, and collect the statistics."
   ]
  },
  {
   "cell_type": "code",
   "execution_count": 6,
   "id": "ed74fb38-11d0-402e-beaf-8c27fa21b79a",
   "metadata": {},
   "outputs": [
    {
     "name": "stdout",
     "output_type": "stream",
     "text": [
      "Starting parametric study...\n",
      "\n",
      "Running: Mesh: Coarse (10x4), Stepper: Rodas5P, Tol: Low Accuracy\n"
     ]
    },
    {
     "ename": "LoadError",
     "evalue": "MethodError: \u001b[0mCannot `convert` an object of type \u001b[92mtypeof(ferrite_limiter!)\u001b[39m\u001b[0m to an object of type \u001b[91mtypeof(OrdinaryDiffEqCore.trivial_limiter!)\u001b[39m\n\n\u001b[0mClosest candidates are:\n\u001b[0m  convert(::Type{T}, \u001b[91m::T\u001b[39m) where T\n\u001b[0m\u001b[90m   @\u001b[39m \u001b[90mBase\u001b[39m \u001b[90m\u001b[4mBase.jl:84\u001b[24m\u001b[39m\n",
     "output_type": "error",
     "traceback": [
      "MethodError: \u001b[0mCannot `convert` an object of type \u001b[92mtypeof(ferrite_limiter!)\u001b[39m\u001b[0m to an object of type \u001b[91mtypeof(OrdinaryDiffEqCore.trivial_limiter!)\u001b[39m\n\n\u001b[0mClosest candidates are:\n\u001b[0m  convert(::Type{T}, \u001b[91m::T\u001b[39m) where T\n\u001b[0m\u001b[90m   @\u001b[39m \u001b[90mBase\u001b[39m \u001b[90m\u001b[4mBase.jl:84\u001b[24m\u001b[39m\n",
      "",
      "Stacktrace:",
      " [1] setproperty!(x::Rodas5P{0, false, Nothing, typeof(OrdinaryDiffEqCore.DEFAULT_PRECS), Val{:forward}, true, nothing, typeof(OrdinaryDiffEqCore.trivial_limiter!), typeof(OrdinaryDiffEqCore.trivial_limiter!)}, f::Symbol, v::Function)",
      "   @ Base .\\Base.jl:40",
      " [2] run_simulation(nels::Tuple{Int64, Int64}, timestepper::Rodas5P{0, false, Nothing, typeof(OrdinaryDiffEqCore.DEFAULT_PRECS), Val{:forward}, true, nothing, typeof(OrdinaryDiffEqCore.trivial_limiter!), typeof(OrdinaryDiffEqCore.trivial_limiter!)}, T_end::Float64, dt0::Float64, abstol::Float64, reltol::Float64; viscosity::Float64)",
      "   @ Main .\\In[4]:66",
      " [3] run_simulation(nels::Tuple{Int64, Int64}, timestepper::Rodas5P{0, false, Nothing, typeof(OrdinaryDiffEqCore.DEFAULT_PRECS), Val{:forward}, true, nothing, typeof(OrdinaryDiffEqCore.trivial_limiter!), typeof(OrdinaryDiffEqCore.trivial_limiter!)}, T_end::Float64, dt0::Float64, abstol::Float64, reltol::Float64)",
      "   @ Main .\\In[4]:1",
      " [4] macro expansion",
      "   @ .\\In[6]:12 [inlined]",
      " [5] macro expansion",
      "   @ .\\timing.jl:395 [inlined]",
      " [6] top-level scope",
      "   @ .\\In[6]:11"
     ]
    }
   ],
   "source": [
    "println(\"Starting parametric study...\\n\")\n",
    "\n",
    "for mesh_config in mesh_configs\n",
    "    for stepper_config in stepper_configs\n",
    "        for tol_config in tolerance_configs\n",
    "            \n",
    "            config_name = \"Mesh: $(mesh_config.name), Stepper: $(stepper_config.name), Tol: $(tol_config.name)\"\n",
    "            println(\"Running: \" * config_name)\n",
    "            \n",
    "            # Run the simulation and time it\n",
    "            elapsed_time = @elapsed begin\n",
    "                sol, num_dofs = run_simulation(mesh_config.nels, stepper_config.stepper, T_end, dt0, tol_config.abstol, tol_config.reltol)\n",
    "            end\n",
    "            \n",
    "            # Store results\n",
    "            stats = sol.stats\n",
    "            push!(results, (\n",
    "                mesh = mesh_config.name,\n",
    "                dofs = num_dofs,\n",
    "                stepper = stepper_config.name,\n",
    "                tolerance = tol_config.name,\n",
    "                time_sec = round(elapsed_time, digits=2),\n",
    "                naccept = stats.naccept,\n",
    "                nreject = stats.nreject,\n",
    "                nsteps = stats.naccept + stats.nreject,\n",
    "                nf = stats.nf, # Number of function evaluations (RHS)\n",
    "                njacs = stats.njacs, # Number of Jacobian evaluations\n",
    "                nw = stats.nw, # Number of W-matrix factorizations (LU solves)\n",
    "                retcode = sol.retcode\n",
    "            ))\n",
    "            println(\"Finished in $(round(elapsed_time, digits=2)) seconds. Result: $(sol.retcode)\\n\")\n",
    "        end\n",
    "    end\n",
    "end\n",
    "\n",
    "println(\"Parametric study complete.\")"
   ]
  },
  {
   "cell_type": "markdown",
   "id": "03e9307f-7acc-4706-8f08-b09b57063da2",
   "metadata": {},
   "source": [
    "## Section 7: Results and Analysis\n",
    "\n",
    "The collected statistics are presented below in a DataFrame for easy comparison. Key metrics to observe are:\n",
    "\n",
    "- **`time_sec`**: Wall-clock time for the entire simulation. This is our primary performance indicator.\n",
    "- **`nsteps`**: Total number of time steps taken. Fewer steps for the same accuracy is generally better.\n",
    "- **`nf`**, **`njacs`**, **`nw`**: Number of RHS evaluations, Jacobian evaluations, and linear solves. These show the internal workload of the solver.\n",
    "- **`retcode`**: The solver's return code. `Success` indicates the simulation completed without issues."
   ]
  },
  {
   "cell_type": "code",
   "execution_count": null,
   "id": "d624d2ac-3e43-42c9-b970-ede831044e60",
   "metadata": {},
   "outputs": [],
   "source": [
    "# Display results using a DataFrame\n",
    "df = DataFrame(results)\n",
    "display(df)"
   ]
  },
  {
   "cell_type": "markdown",
   "id": "fa20b467-e07f-47f5-a635-eb4dca78a868",
   "metadata": {},
   "source": [
    "## Section 8: Brief Conclusion\n",
    "\n",
    "This study provides a quantitative comparison of different numerical configurations for solving the transient Stokes problem. From the results, we can draw conclusions about:\n",
    "\n",
    "1.  **Scalability with Mesh Size:** We can observe how the computation time and the number of solver iterations (`nw`) increase as the number of DOFs grows.\n",
    "2.  **Solver Efficiency:** By comparing `Rodas5P`, `ROS34PW1a`, and `KenCarp4`, we can identify which implicit solver is most efficient for this specific type of problem (a stiff DAE arising from FEM).\n",
    "3.  **Accuracy vs. Performance Trade-off:** The difference in `time_sec` and `nsteps` between the 'Low Accuracy' and 'High Accuracy' runs demonstrates the cost of requiring a more precise solution.\n",
    "\n",
    "Overall, this analysis is crucial for selecting optimal numerical methods for larger and more complex fluid dynamics simulations."
   ]
  }
 ],
 "metadata": {
  "kernelspec": {
   "display_name": "Julia 1.10.5",
   "language": "julia",
   "name": "julia-1.10"
  },
  "language_info": {
   "file_extension": ".jl",
   "mimetype": "application/julia",
   "name": "julia",
   "version": "1.10.5"
  }
 },
 "nbformat": 4,
 "nbformat_minor": 5
}
